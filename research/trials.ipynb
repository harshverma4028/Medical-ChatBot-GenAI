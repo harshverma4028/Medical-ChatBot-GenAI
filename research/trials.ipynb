{
 "cells": [
  {
   "cell_type": "code",
   "execution_count": null,
   "metadata": {},
   "outputs": [],
   "source": []
  },
  {
   "cell_type": "code",
   "execution_count": 2,
   "metadata": {},
   "outputs": [
    {
     "name": "stdout",
     "output_type": "stream",
     "text": [
      "6\n"
     ]
    }
   ],
   "source": [
    "print(3+3)"
   ]
  },
  {
   "cell_type": "code",
   "execution_count": 3,
   "metadata": {},
   "outputs": [
    {
     "data": {
      "text/plain": [
       "'e:\\\\Project-Work\\\\Medical-ChatBot-GenAI\\\\research'"
      ]
     },
     "execution_count": 3,
     "metadata": {},
     "output_type": "execute_result"
    }
   ],
   "source": [
    "%pwd"
   ]
  },
  {
   "cell_type": "code",
   "execution_count": 4,
   "metadata": {},
   "outputs": [],
   "source": [
    "import os\n",
    "os.chdir(\"../\")"
   ]
  },
  {
   "cell_type": "code",
   "execution_count": 62,
   "metadata": {},
   "outputs": [],
   "source": [
    "from langchain.document_loaders import PyPDFLoader , DirectoryLoader\n",
    "from langchain.text_splitter import RecursiveCharacterTextSplitter"
   ]
  },
  {
   "cell_type": "code",
   "execution_count": 63,
   "metadata": {},
   "outputs": [],
   "source": [
    "# Extract Data from the PDF File\n",
    "\n",
    "def load_pdf_file(data):\n",
    "    loader = DirectoryLoader(data,\n",
    "                             glob=\"*.pdf\",\n",
    "                             loader_cls=PyPDFLoader)\n",
    "    \n",
    "    documents = loader.load()\n",
    "\n",
    "    return documents"
   ]
  },
  {
   "cell_type": "code",
   "execution_count": 64,
   "metadata": {},
   "outputs": [],
   "source": [
    "extracted_data = load_pdf_file(data='Data/')"
   ]
  },
  {
   "cell_type": "code",
   "execution_count": 65,
   "metadata": {},
   "outputs": [
    {
     "data": {
      "text/plain": [
       "[Document(metadata={'producer': 'PDFlib+PDI 5.0.0 (SunOS)', 'creator': 'PyPDF', 'creationdate': '2004-12-18T17:00:02-05:00', 'moddate': '2004-12-18T16:15:31-06:00', 'source': 'Data\\\\Medical_book.pdf', 'total_pages': 637, 'page': 0, 'page_label': '1'}, page_content=''),\n",
       " Document(metadata={'producer': 'PDFlib+PDI 5.0.0 (SunOS)', 'creator': 'PyPDF', 'creationdate': '2004-12-18T17:00:02-05:00', 'moddate': '2004-12-18T16:15:31-06:00', 'source': 'Data\\\\Medical_book.pdf', 'total_pages': 637, 'page': 1, 'page_label': '2'}, page_content='The GALE\\nENCYCLOPEDIA\\nof MEDICINE\\nSECOND EDITION'),\n",
       " Document(metadata={'producer': 'PDFlib+PDI 5.0.0 (SunOS)', 'creator': 'PyPDF', 'creationdate': '2004-12-18T17:00:02-05:00', 'moddate': '2004-12-18T16:15:31-06:00', 'source': 'Data\\\\Medical_book.pdf', 'total_pages': 637, 'page': 2, 'page_label': '3'}, page_content='The GALE\\nENCYCLOPEDIA\\nof MEDICINE\\nSECOND EDITION\\nJACQUELINE L. LONGE, EDITOR\\nDEIRDRE S. BLANCHFIELD, ASSOCIATE EDITOR\\nVOLUME\\nA-B\\n1'),\n",
       " Document(metadata={'producer': 'PDFlib+PDI 5.0.0 (SunOS)', 'creator': 'PyPDF', 'creationdate': '2004-12-18T17:00:02-05:00', 'moddate': '2004-12-18T16:15:31-06:00', 'source': 'Data\\\\Medical_book.pdf', 'total_pages': 637, 'page': 3, 'page_label': '4'}, page_content='STAFF\\nJacqueline L. Longe, Project Editor\\nDeirdre S. Blanchfield, Associate Editor\\nChristine B. Jeryan, Managing Editor\\nDonna Olendorf, Senior Editor\\nStacey Blachford, Associate Editor\\nKate Kretschmann, Melissa C. McDade, Ryan\\nThomason, Assistant Editors\\nMark Springer, Technical Specialist\\nAndrea Lopeman, Programmer/Analyst\\nBarbara J. Yarrow,Manager, Imaging and Multimedia\\nContent\\nRobyn V . Young,Project Manager, Imaging and\\nMultimedia Content\\nDean Dauphinais, Senior Editor, Imaging and\\nMultimedia Content\\nKelly A. Quin, Editor, Imaging and Multimedia Content\\nLeitha Etheridge-Sims, Mary K. Grimes, Dave Oblender,\\nImage Catalogers\\nPamela A. Reed, Imaging Coordinator\\nRandy Bassett, Imaging Supervisor\\nRobert Duncan, Senior Imaging Specialist\\nDan Newell, Imaging Specialist\\nChristine O’Bryan,Graphic Specialist\\nMaria Franklin, Permissions Manager\\nMargaret A. Chamberlain, Permissions Specialist\\nMichelle DiMercurio, Senior Art Director\\nMike Logusz, Graphic Artist\\nMary Beth Trimper,Manager, Composition and\\nElectronic Prepress\\nEvi Seoud, Assistant Manager, Composition Purchasing\\nand Electronic Prepress\\nDorothy Maki, Manufacturing Manager\\nWendy Blurton, Senior Manufacturing Specialist\\nThe GALE\\nENCYCLOPEDIA\\nof MEDICINE\\nSECOND EDITION\\nSince this page cannot legibly accommodate all copyright notices, the\\nacknowledgments constitute an extension of the copyright notice.\\nWhile every effort has been made to ensure the reliability of the infor-\\nmation presented in this publication, the Gale Group neither guarantees\\nthe accuracy of the data contained herein nor assumes any responsibili-\\nty for errors, omissions or discrepancies. The Gale Group accepts no\\npayment for listing, and inclusion in the publication of any organiza-\\ntion, agency, institution, publication, service, or individual does not\\nimply endorsement of the editor or publisher. Errors brought to the\\nattention of the publisher and verified to the satisfaction of the publish-\\ner will be corrected in future editions.\\nThis book is printed on recycled paper that meets Environmental Pro-\\ntection Agency standards.\\nThe paper used in this publication meets the minimum requirements of\\nAmerican National Standard for Information Sciences-Permanence\\nPaper for Printed Library Materials, ANSI Z39.48-1984.\\nThis publication is a creative work fully protected by all applicable\\ncopyright laws, as well as by misappropriation, trade secret, unfair com-\\npetition, and other applicable laws. The authors and editor of this work\\nhave added value to the underlying factual material herein through one\\nor more of the following: unique and original selection, coordination,\\nexpression, arrangement, and classification of the information.\\nGale Group and design is a trademark used herein under license.\\nAll rights to this publication will be vigorously defended.\\nCopyright © 2002\\nGale Group\\n27500 Drake Road\\nFarmington Hills, MI 48331-3535\\nAll rights reserved including the right of reproduction in whole or in\\npart in any form.\\nISBN 0-7876-5489-2 (set)\\n0-7876-5490-6 (V ol. 1)\\n0-7876-5491-4 (V ol. 2)\\n0-7876-5492-2 (V ol. 3)\\n0-7876-5493-0 (V ol. 4)\\n0-7876-5494-9 (V ol. 5)\\nPrinted in the United States of America\\n10 9 8 7 6 5 4 3 2 1\\nLibrary of Congress Cataloging-in-Publication Data\\nGale encyclopedia of medicine / Jacqueline L. Longe, editor;\\nDeirdre S. Blanchfield, associate editor — 2nd ed.\\np. cm.\\nIncludes bibliographical references and index.\\nContents: V ol. 1. A-B — v. 2. C-F — v. 3.\\nG-M — v. 4. N-S — v. 5. T-Z.\\nISBN 0-7876-5489-2 (set: hardcover) — ISBN 0-7876-5490-6\\n(vol. 1) — ISBN 0-7876-5491-4 (vol. 2) — ISBN 0-7876-5492-2\\n(vol. 3) — ISBN 0-7876-5493-0 (vol. 4) — ISBN 0-7876-5494-9\\n(vol. 5)\\n1. Internal medicine—Encyclopedias. I. Longe, Jacqueline L. \\nII. Blanchfield, Deirdre S. III. Gale Research Company.\\nRC41.G35 2001\\n616’.003—dc21\\n2001051245'),\n",
       " Document(metadata={'producer': 'PDFlib+PDI 5.0.0 (SunOS)', 'creator': 'PyPDF', 'creationdate': '2004-12-18T17:00:02-05:00', 'moddate': '2004-12-18T16:15:31-06:00', 'source': 'Data\\\\Medical_book.pdf', 'total_pages': 637, 'page': 4, 'page_label': '5'}, page_content='Introduction.................................................... ix\\nAdvisory Board.............................................. xi\\nContributors ................................................. xiii\\nEntries\\nVolume 1: A-B.............................................. 1\\nVolume 2: C-F.......................................... 625\\nVolume 3: G-M....................................... 1375\\nVolume 4: N-S........................................ 2307\\nVolume 5: T-Z........................................ 3237\\nOrganizations ............................................ 3603\\nGeneral Index............................................ 3625\\nGALE ENCYCLOPEDIA OF MEDICINE 2 V\\nCONTENTS'),\n",
       " Document(metadata={'producer': 'PDFlib+PDI 5.0.0 (SunOS)', 'creator': 'PyPDF', 'creationdate': '2004-12-18T17:00:02-05:00', 'moddate': '2004-12-18T16:15:31-06:00', 'source': 'Data\\\\Medical_book.pdf', 'total_pages': 637, 'page': 5, 'page_label': '6'}, page_content='The Gale Encyclopedia of Medicine 2is a medical ref-\\nerence product designed to inform and educate readers\\nabout a wide variety of disorders, conditions, treatments,\\nand diagnostic tests. The Gale Group believes the product\\nto be comprehensive, but not necessarily definitive. It is\\nintended to supplement, not replace, consultation with a\\nphysician or other healthcare practitioner. While the Gale\\nGroup has made substantial efforts to provide information\\nthat is accurate, comprehensive, and up-to-date, the Gale\\nGroup makes no representations or warranties of any\\nkind, including without limitation, warranties of mer-\\nchantability or fitness for a particular purpose, nor does it\\nguarantee the accuracy, comprehensiveness, or timeliness\\nof the information contained in this product. Readers\\nshould be aware that the universe of medical knowledge\\nis constantly growing and changing, and that differences\\nof medical opinion exist among authorities. Readers are\\nalso advised to seek professional diagnosis and treatment\\nfor any medical condition, and to discuss information\\nobtained from this book with their health care provider.\\nGALE ENCYCLOPEDIA OF MEDICINE 2 VII\\nPLEASE READ—IMPORTANT INFORMATION'),\n",
       " Document(metadata={'producer': 'PDFlib+PDI 5.0.0 (SunOS)', 'creator': 'PyPDF', 'creationdate': '2004-12-18T17:00:02-05:00', 'moddate': '2004-12-18T16:15:31-06:00', 'source': 'Data\\\\Medical_book.pdf', 'total_pages': 637, 'page': 6, 'page_label': '7'}, page_content='The Gale Encyclopedia of Medicine 2 (GEM2) is a\\none-stop source for medical information on nearly 1,700\\ncommon medical disorders, conditions, tests, and treat-\\nments, including high-profile diseases such as AIDS,\\nAlzheimer’s disease, cancer, and heart attack. This ency-\\nclopedia avoids medical jargon and uses language that\\nlaypersons can understand, while still providing thor-\\nough coverage of each topic. The Gale Encyclopedia of\\nMedicine 2 fills a gap between basic consumer health\\nresources, such as single-volume family medical guides,\\nand highly technical professional materials.\\nSCOPE\\nAlmost 1,700 full-length articles are included in the\\nGale Encyclopedia of Medicine 2 , including disorders/\\nconditions, tests/procedures, and treatments/therapies.\\nMany common drugs are also covered, with generic drug\\nnames appearing first and brand names following in\\nparentheses, eg. acetaminophen (Tylenol). Throughout\\nthe Gale Encyclopedia of Medicine 2 , many prominent\\nindividuals are highlighted as sidebar biographies that\\naccompany the main topical essays. Articles follow a\\nstandardized format that provides information at a\\nglance. Rubrics include:\\nDisorders/Conditions Tests/Treatments\\nDefinition Definition\\nDescription Purpose\\nCauses and symptoms Precautions\\nDiagnosis Description\\nTreatment Preparation\\nAlternative treatment Aftercare\\nPrognosis Risks\\nPrevention Normal/Abnormal results\\nResources Resources\\nKey terms Key terms\\nIn recent years there has been a resurgence of interest\\nin holistic medicine that emphasizes the connection\\nbetween mind and body. Aimed at achieving and main-\\ntaining good health rather than just eliminating disease,\\nthis approach has come to be known as alternative medi-\\ncine. The Gale Encyclopedia of Medicine 2 includes a\\nnumber of essays on alternative therapies, ranging from\\ntraditional Chinese medicine to homeopathy and from\\nmeditation to aromatherapy. In addition to full essays on\\nalternative therapies, the encyclopedia features specific\\nAlternative treatmentsections for diseases and condi-\\ntions that may be helped by complementary therapies.\\nINCLUSION CRITERIA\\nA preliminary list of diseases, disorders, tests and treat-\\nments was compiled from a wide variety of sources,\\nincluding professional medical guides and textbooks as\\nwell as consumer guides and encyclopedias. The general\\nadvisory board, made up of public librarians, medical\\nlibrarians and consumer health experts, evaluated the top-\\nics and made suggestions for inclusion. The list was sorted\\nby category and sent to GEM2 medical advisors, certified\\nphysicians with various medical specialities, for review.\\nFinal selection of topics to include was made by the med-\\nical advisors in conjunction with the Gale Group editor.\\nABOUT THE CONTRIBUTORS\\nThe essays were compiled by experienced medical\\nwriters, including physicians, pharmacists, nurses, and\\nother health care professionals. GEM2 medical advisors\\nreviewed the completed essays to insure that they are\\nappropriate, up-to-date, and medically accurate.\\nHOW TO USE THIS BOOK\\nThe Gale Encyclopedia of Medicine 2 has been\\ndesigned with ready reference in mind.\\n• Straight alphabetical arrangement allows users to\\nlocate information quickly.\\n• Bold-faced terms function as print hyperlinks that\\npoint the reader to related entries in the encyclopedia.\\nGALE ENCYCLOPEDIA OF MEDICINE 2 IX\\nINTRODUCTION'),\n",
       " Document(metadata={'producer': 'PDFlib+PDI 5.0.0 (SunOS)', 'creator': 'PyPDF', 'creationdate': '2004-12-18T17:00:02-05:00', 'moddate': '2004-12-18T16:15:31-06:00', 'source': 'Data\\\\Medical_book.pdf', 'total_pages': 637, 'page': 7, 'page_label': '8'}, page_content='• Cross-references placed throughout the encyclopedia\\ndirect readers to where information on subjects with-\\nout entries can be found. Synonyms are also cross-ref-\\nerenced.\\n• A list of key terms are provided where appropriate to\\ndefine unfamiliar terms or concepts.\\n• Valuable contact information for organizations and\\nsupport groups is included with each entry. The\\nappendix contains an extensive list of organizations\\narranged in alphabetical order.\\n• Resources section directs users to additional sources\\nof medical information on a topic.\\n• A comprehensive general index allows users to easily\\ntarget detailed aspects of any topic, including Latin\\nnames.\\nGRAPHICS\\nThe Gale Encyclopedia of Medicine 2 is enhanced\\nwith over 675 color images, including photos, charts,\\ntables, and customized line drawings.\\nGALE ENCYCLOPEDIA OF MEDICINE 2X\\nIntroduction'),\n",
       " Document(metadata={'producer': 'PDFlib+PDI 5.0.0 (SunOS)', 'creator': 'PyPDF', 'creationdate': '2004-12-18T17:00:02-05:00', 'moddate': '2004-12-18T16:15:31-06:00', 'source': 'Data\\\\Medical_book.pdf', 'total_pages': 637, 'page': 8, 'page_label': '9'}, page_content='MEDICAL ADVISORS\\nA. Richard Adrouny, M.D.,\\nF.A.C.P.\\nClinical Assistant Professor of\\nMedicine\\nDivision of Oncology\\nStanford University\\nDirector of Medical Oncology\\nCommunity Hospital of Los Gatos-\\nSaratoga\\nLos Gatos, CA\\nLaurie Barclay, M.D.\\nNeurological Consulting Services\\nTampa, FL\\nKenneth J. Berniker, M.D.\\nAttending Physician\\nEmergency Department\\nKaiser Permanente Medical Center\\nVallejo, CA\\nRosalyn Carson-DeWitt, M.D.\\nDurham, NC\\nRobin Dipasquale, N.D.\\nClinical Faculty\\nBastyr University\\nSeattle, W A\\nFaye Fishman, D.O.\\nRandolph, NJ\\nJ. Gary Grant, M.D.\\nPacific Grove, CA\\nLaith F. Gulli, M.D.\\nM.Sc., M.Sc.(MedSci), MSA,\\nMsc.Psych., MRSNZ\\nFRSH, FRIPHH, FAIC, FZS\\nDAPA, DABFC, DABCI\\nConsultant Psychotherapist in\\nPrivate Practice\\nLathrup Village, MI\\nL. Anne Hirschel, D.D.S.\\nSouthfield, MI\\nLarry I. Lutwick M.D., F.A.C.P.\\nDirector, Infectious Diseases\\nV A Medical Center\\nBrooklyn, NY\\nIra Michelson, M.D., M.B.A.,\\nF.A.C.O.G.\\nPhysician and Clinical Instructor\\nUniversity of Michigan\\nAnn Arbor, MI\\nSusan Mockus, M.D.\\nScientific Consultant\\nSeattle, W A\\nRalph M. Myerson, M.D.,\\nF.A.C.P.\\nClinical Professor of Medicine\\nMedical College of Pennsylvania–\\nHahnemann University\\nPhiladelphia, PA\\nRonald Pies, M.D.\\nClinical Professor of Psychiatry\\nTufts University\\nSchool of Medicine\\nBoston, MA\\nLecturer on Psychiatry\\nHarvard Medical School\\nCambridge, MA\\nLee A. Shratter, M.D.\\nStaff Radiologist\\nThe Permanente Medical Group\\nRichmond, CA\\nAmy B. Tuteur, M.D.\\nSharon, MA\\nLIBRARIAN ADVISORS\\nMaureen O. Carleton, MLIS\\nMedical Reference Specialist\\nKing County Library System\\nBellevue, W A\\nElizabeth Clewis Crim, MLS\\nCollection Specialist\\nPrince William Public Library, V A\\nValerie J. Lawrence, MLS\\nAssistant Librarian\\nWestern States Chiropractic\\nCollege\\nPortland, OR\\nBarbara J. O’Hara, MLS\\nAdult Services Librarian\\nFree Library of Philadelphia, PA\\nAlan M. Rees, MLS\\nProfessor Emeritus\\nCase Western Reserve University\\nCleveland, OH\\nGALE ENCYCLOPEDIA OF MEDICINE 2 XI\\nADVISORY BOARD\\nA number of experts in the library and medical communities provided invaluable assistance in the formulation of this ency-\\nclopedia. Our advisory board performed a myriad of duties, from defining the scope of coverage to reviewing individual\\nentries for accuracy and accessibility. The editor would like to express her appreciation to them.'),\n",
       " Document(metadata={'producer': 'PDFlib+PDI 5.0.0 (SunOS)', 'creator': 'PyPDF', 'creationdate': '2004-12-18T17:00:02-05:00', 'moddate': '2004-12-18T16:15:31-06:00', 'source': 'Data\\\\Medical_book.pdf', 'total_pages': 637, 'page': 9, 'page_label': '10'}, page_content='Margaret Alic, Ph.D.\\nScience Writer\\nEastsound, W A\\nJanet Byron Anderson\\nLinguist/Language Consultant\\nRocky River, OH\\nLisa Andres, M.S., C.G.C.\\nCertified Genetic Counselor and\\nMedical Writer\\nSan Jose, CA\\nGreg Annussek\\nMedical Writer/Editor\\nNew York, NY\\nBill Asenjo, M.S., C.R.C.\\nScience Writer\\nIowa City, IA\\nSharon A. Aufox, M.S., C.G.C.\\nGenetic Counselor\\nRockford Memorial Hospital\\nRockford, IL\\nSandra Bain Cushman\\nMassage Therapist, Alexander\\nTechnique Practitioner\\nCharlottesville, V A\\nHoward Baker\\nMedical Writer\\nNorth York, Ontario\\nLaurie Barclay, M.D.\\nNeurological Consulting Services\\nTampa, FL\\nJeanine Barone\\nNutritionist, Exercise Physiologist\\nNew York, NY\\nJulia R. Barrett\\nScience Writer\\nMadison, WI\\nDonald G. Barstow, R.N.\\nClincal Nurse Specialist\\nOklahoma City, OK\\nCarin Lea Beltz, M.S.\\nGenetic Counselor and Program\\nDirector\\nThe Center for Genetic Counseling\\nIndianapolis, IN\\nLinda K. Bennington, C.N.S.\\nScience Writer\\nVirginia Beach, V A\\nIssac R. Berniker\\nMedical Writer\\nVallejo, CA\\nKathleen Berrisford, M.S.V .\\nScience Writer\\nBethanne Black\\nMedical Writer\\nAtlanta, GA\\nJennifer Bowjanowski, M.S.,\\nC.G.C.\\nGenetic Counselor\\nChildren’s Hospital Oakland\\nOakland, CA\\nMichelle Q. Bosworth, M.S., C.G.C.\\nGenetic Counselor\\nEugene, OR\\nBarbara Boughton\\nHealth and Medical Writer\\nEl Cerrito, CA\\nCheryl Branche, M.D.\\nRetired General Practitioner\\nJackson, MS\\nMichelle Lee Brandt\\nMedical Writer\\nSan Francisco, CA\\nMaury M. Breecher, Ph.D.\\nHealth Communicator/Journalist\\nNorthport, AL\\nRuthan Brodsky\\nMedical Writer\\nBloomfield Hills, MI\\nTom Brody, Ph.D.\\nScience Writer\\nBerkeley, CA\\nLeonard C. Bruno, Ph.D.\\nMedical Writer\\nChevy Chase, MD\\nDiane Calbrese\\nMedical Sciences and Technology\\nWriter\\nSilver Spring, Maryland\\nRichard H. Camer\\nEditor\\nInternational Medical News Group\\nSilver Spring, MD\\nRosalyn Carson-DeWitt, M.D.\\nMedical Writer\\nDurham, NC\\nLata Cherath, Ph.D.\\nScience Writing Intern\\nCancer Research Institute\\nNew York, NY\\nLinda Chrisman\\nMassage Therapist and Educator\\nOakland, CA\\nLisa Christenson, Ph.D.\\nScience Writer\\nHamden, CT\\nGeoffrey N. Clark, D.V .M.\\nEditor\\nCanine Sports Medicine Update\\nNewmarket, NH\\nGALE ENCYCLOPEDIA OF MEDICINE 2 XIII\\nCONTRIBUTORS')]"
      ]
     },
     "execution_count": 65,
     "metadata": {},
     "output_type": "execute_result"
    }
   ],
   "source": [
    "extracted_data[:10]"
   ]
  },
  {
   "cell_type": "code",
   "execution_count": 66,
   "metadata": {},
   "outputs": [],
   "source": [
    "## Split the Data into Text Chunks\n",
    "\n",
    "def text_split(extracted_data):\n",
    "    text_spliter = RecursiveCharacterTextSplitter(chunk_size=500, chunk_overlap=20)\n",
    "    text_chunks = text_spliter.split_documents(extracted_data)\n",
    "    return text_chunks"
   ]
  },
  {
   "cell_type": "code",
   "execution_count": 67,
   "metadata": {},
   "outputs": [
    {
     "name": "stdout",
     "output_type": "stream",
     "text": [
      "Length of Text Chunks 5860\n"
     ]
    }
   ],
   "source": [
    "text_chunks = text_split(extracted_data)\n",
    "print(\"Length of Text Chunks\", len(text_chunks))"
   ]
  },
  {
   "cell_type": "code",
   "execution_count": 11,
   "metadata": {},
   "outputs": [],
   "source": [
    "# text_chunks"
   ]
  },
  {
   "cell_type": "code",
   "execution_count": 68,
   "metadata": {},
   "outputs": [],
   "source": [
    "from langchain.embeddings import HuggingFaceEmbeddings"
   ]
  },
  {
   "cell_type": "code",
   "execution_count": 69,
   "metadata": {},
   "outputs": [],
   "source": [
    "# Download the Embedding from Hugging Face\n",
    "\n",
    "def download_hugging_face_embedding():\n",
    "    embeddings = HuggingFaceEmbeddings(model_name='sentence-transformers/all-MiniLM-L6-v2')\n",
    "    return embeddings"
   ]
  },
  {
   "cell_type": "code",
   "execution_count": 70,
   "metadata": {},
   "outputs": [],
   "source": [
    "embeddings = download_hugging_face_embedding()"
   ]
  },
  {
   "cell_type": "code",
   "execution_count": 71,
   "metadata": {},
   "outputs": [
    {
     "name": "stdout",
     "output_type": "stream",
     "text": [
      "Length  384\n"
     ]
    }
   ],
   "source": [
    "query_result = embeddings.embed_query(\"Hello world\")\n",
    "print(\"Length \", len(query_result))"
   ]
  },
  {
   "cell_type": "code",
   "execution_count": 72,
   "metadata": {},
   "outputs": [
    {
     "data": {
      "text/plain": [
       "True"
      ]
     },
     "execution_count": 72,
     "metadata": {},
     "output_type": "execute_result"
    }
   ],
   "source": [
    "from dotenv import load_dotenv\n",
    "load_dotenv()"
   ]
  },
  {
   "cell_type": "code",
   "execution_count": 73,
   "metadata": {},
   "outputs": [],
   "source": [
    "PINECONE_API_KEY = os.environ.get('PINECONE_API_KEY')\n",
    "GROQ_API_KEY = os.environ.get('GROQ_API_KEY')"
   ]
  },
  {
   "cell_type": "code",
   "execution_count": 75,
   "metadata": {},
   "outputs": [
    {
     "data": {
      "text/plain": [
       "{\n",
       "    \"name\": \"medicalbot\",\n",
       "    \"metric\": \"cosine\",\n",
       "    \"host\": \"medicalbot-ckos228.svc.aped-4627-b74a.pinecone.io\",\n",
       "    \"spec\": {\n",
       "        \"serverless\": {\n",
       "            \"cloud\": \"aws\",\n",
       "            \"region\": \"us-east-1\"\n",
       "        }\n",
       "    },\n",
       "    \"status\": {\n",
       "        \"ready\": true,\n",
       "        \"state\": \"Ready\"\n",
       "    },\n",
       "    \"vector_type\": \"dense\",\n",
       "    \"dimension\": 384,\n",
       "    \"deletion_protection\": \"disabled\",\n",
       "    \"tags\": null\n",
       "}"
      ]
     },
     "execution_count": 75,
     "metadata": {},
     "output_type": "execute_result"
    }
   ],
   "source": [
    "         #  iNDEX CREATEION\n",
    "from pinecone import Pinecone, ServerlessSpec\n",
    "\n",
    "pc = Pinecone(api_key=PINECONE_API_KEY)\n",
    "\n",
    "index_name = \"medicalbot\"\n",
    "\n",
    "pc.create_index(\n",
    "    name=index_name,\n",
    "    dimension=384, # Replace with your model dimensions\n",
    "    metric=\"cosine\", # Replace with your model metric\n",
    "    spec=ServerlessSpec(\n",
    "        cloud=\"aws\",\n",
    "        region=\"us-east-1\"\n",
    "    ) \n",
    ")"
   ]
  },
  {
   "cell_type": "code",
   "execution_count": 76,
   "metadata": {},
   "outputs": [],
   "source": [
    "import os\n",
    "os.environ[\"PINECONE_API_KEY\"] = PINECONE_API_KEY\n",
    "os.environ[\"GROQ_API_KEY\"] = GROQ_API_KEY"
   ]
  },
  {
   "cell_type": "code",
   "execution_count": null,
   "metadata": {},
   "outputs": [],
   "source": [
    "# Uploading the embedding in the pincone database \n",
    "\n",
    "from langchain_pinecone import PineconeVectorStore\n",
    "\n",
    "docsearch = PineconeVectorStore.from_documents(\n",
    "    documents=text_chunks,\n",
    "    index_name=index_name,\n",
    "    embedding=embeddings\n",
    ")"
   ]
  },
  {
   "cell_type": "code",
   "execution_count": 78,
   "metadata": {},
   "outputs": [],
   "source": [
    "# Load Existing index\n",
    "\n",
    "from langchain_pinecone import PineconeVectorStore\n",
    "\n",
    "docsearch = PineconeVectorStore.from_existing_index(\n",
    "    index_name=index_name,\n",
    "    embedding=embeddings\n",
    ")"
   ]
  },
  {
   "cell_type": "code",
   "execution_count": 79,
   "metadata": {},
   "outputs": [
    {
     "data": {
      "text/plain": [
       "<langchain_pinecone.vectorstores.PineconeVectorStore at 0x1f693545f90>"
      ]
     },
     "execution_count": 79,
     "metadata": {},
     "output_type": "execute_result"
    }
   ],
   "source": [
    "docsearch"
   ]
  },
  {
   "cell_type": "code",
   "execution_count": 80,
   "metadata": {},
   "outputs": [],
   "source": [
    "retriever = docsearch.as_retriever(search_type='similarity',search_kwargs={\"k\":3})"
   ]
  },
  {
   "cell_type": "code",
   "execution_count": 81,
   "metadata": {},
   "outputs": [],
   "source": [
    "retriever_docs = retriever.invoke(\"what is Acne? \")"
   ]
  },
  {
   "cell_type": "code",
   "execution_count": 82,
   "metadata": {},
   "outputs": [
    {
     "data": {
      "text/plain": [
       "[Document(id='48eb4218-d409-4f5a-a832-b012da08596c', metadata={'creationdate': '2004-12-18T17:00:02-05:00', 'creator': 'PyPDF', 'moddate': '2004-12-18T16:15:31-06:00', 'page': 39.0, 'page_label': '40', 'producer': 'PDFlib+PDI 5.0.0 (SunOS)', 'source': 'Data\\\\Medical_book.pdf', 'total_pages': 637.0}, page_content='GALE ENCYCLOPEDIA OF MEDICINE 226\\nAcne\\nGEM - 0001 to 0432 - A  10/22/03 1:41 PM  Page 26'),\n",
       " Document(id='7ab40386-45ad-4e12-932e-7cdc1b6eb903', metadata={'creationdate': '2004-12-18T17:00:02-05:00', 'creator': 'PyPDF', 'moddate': '2004-12-18T16:15:31-06:00', 'page': 38.0, 'page_label': '39', 'producer': 'PDFlib+PDI 5.0.0 (SunOS)', 'source': 'Data\\\\Medical_book.pdf', 'total_pages': 637.0}, page_content='GALE ENCYCLOPEDIA OF MEDICINE 2 25\\nAcne\\nAcne vulgaris affecting a woman’s face. Acne is the general\\nname given to a skin disorder in which the sebaceous\\nglands become inflamed.(Photograph by Biophoto Associ-\\nates, Photo Researchers, Inc. Reproduced by permission.)\\nGEM - 0001 to 0432 - A  10/22/03 1:41 PM  Page 25'),\n",
       " Document(id='a3d722a5-2862-4dd4-8608-d90ef8bddc02', metadata={'creationdate': '2004-12-18T17:00:02-05:00', 'creator': 'PyPDF', 'moddate': '2004-12-18T16:15:31-06:00', 'page': 37.0, 'page_label': '38', 'producer': 'PDFlib+PDI 5.0.0 (SunOS)', 'source': 'Data\\\\Medical_book.pdf', 'total_pages': 637.0}, page_content='Acidosis see Respiratory acidosis; Renal\\ntubular acidosis; Metabolic acidosis\\nAcne\\nDefinition\\nAcne is a common skin disease characterized by\\npimples on the face, chest, and back. It occurs when the\\npores of the skin become clogged with oil, dead skin\\ncells, and bacteria.\\nDescription\\nAcne vulgaris, the medical term for common acne, is\\nthe most common skin disease. It affects nearly 17 million\\npeople in the United States. While acne can arise at any')]"
      ]
     },
     "execution_count": 82,
     "metadata": {},
     "output_type": "execute_result"
    }
   ],
   "source": [
    "retriever_docs"
   ]
  },
  {
   "cell_type": "code",
   "execution_count": 83,
   "metadata": {},
   "outputs": [
    {
     "name": "stdout",
     "output_type": "stream",
     "text": [
      "New Delhi is the capital city of India. It is located in the northern part of the country and serves as the seat of the Indian government. New Delhi is part of the larger metropolitan area of Delhi and became the capital of India in 1931, replacing Calcutta (now Kolkata) as the capital during British colonial rule.\n"
     ]
    }
   ],
   "source": [
    "from langchain_anthropic import ChatAnthropic\n",
    "from dotenv import load_dotenv\n",
    "\n",
    "load_dotenv()\n",
    "\n",
    "llm = ChatAnthropic(model='claude-3-5-sonnet-20241022')\n",
    "\n",
    "result = llm.invoke(\"what is the capital of india \")\n",
    "print(result.content)"
   ]
  },
  {
   "cell_type": "code",
   "execution_count": 85,
   "metadata": {},
   "outputs": [],
   "source": [
    "from langchain.chains import create_retrieval_chain\n",
    "from langchain.chains.combine_documents import create_stuff_documents_chain\n",
    "from langchain_core.prompts import ChatPromptTemplate\n",
    "\n",
    "\n",
    "system_prompt = (\n",
    "    \"You are an assistant for question-answer tasks.\"\n",
    "    \"use the following piece of retrieved context to answer \"\n",
    "    \"the question. If you don't know the answer, say that you \"\n",
    "    \"don't know. Use three sentences maximum and keep the \"\n",
    "    \"answer conciese.\"\n",
    "    \"\\n\\n\"\n",
    "    \"{context}\"\n",
    ")\n",
    "\n",
    "prompt = ChatPromptTemplate.from_messages(\n",
    "    [\n",
    "        (\"system\",system_prompt),\n",
    "        (\"human\",\"{input}\"),\n",
    "    ]\n",
    ")"
   ]
  },
  {
   "cell_type": "code",
   "execution_count": 86,
   "metadata": {},
   "outputs": [],
   "source": [
    "question_answer_chain = create_stuff_documents_chain(llm,prompt)\n",
    "rag_chain = create_retrieval_chain(retriever , question_answer_chain)"
   ]
  },
  {
   "cell_type": "code",
   "execution_count": 87,
   "metadata": {},
   "outputs": [
    {
     "name": "stdout",
     "output_type": "stream",
     "text": [
      "Acne is a common skin disease that occurs when pores become clogged with oil, dead skin cells, and bacteria. It typically appears as pimples on the face, chest, and back, and is the most common skin disease affecting nearly 17 million people in the United States.\n"
     ]
    }
   ],
   "source": [
    "response = rag_chain.invoke({'input':'What is acne? '})\n",
    "print(response['answer'])"
   ]
  },
  {
   "cell_type": "code",
   "execution_count": 61,
   "metadata": {},
   "outputs": [
    {
     "name": "stdout",
     "output_type": "stream",
     "text": [
      "Based on the provided context, I cannot answer what statistics is. The given text discusses complete blood count (CBC) tests, blood cells, and laboratory examination procedures. It does not contain any information about statistics.\n"
     ]
    }
   ],
   "source": [
    "response = rag_chain.invoke({'input':'What is statistics? '})\n",
    "print(response['answer'])"
   ]
  },
  {
   "cell_type": "code",
   "execution_count": null,
   "metadata": {},
   "outputs": [],
   "source": []
  }
 ],
 "metadata": {
  "kernelspec": {
   "display_name": "venv",
   "language": "python",
   "name": "python3"
  },
  "language_info": {
   "codemirror_mode": {
    "name": "ipython",
    "version": 3
   },
   "file_extension": ".py",
   "mimetype": "text/x-python",
   "name": "python",
   "nbconvert_exporter": "python",
   "pygments_lexer": "ipython3",
   "version": "3.11.1"
  }
 },
 "nbformat": 4,
 "nbformat_minor": 2
}
